{
 "cells": [
  {
   "cell_type": "markdown",
   "metadata": {},
   "source": [
    "# Pyber Ride Sharing\n",
    "\n",
    "## Analysis\n",
    "\n",
    "- The majority of fares, rides, and drivers are concentrated in urban city types.\n",
    "- Average fares tend to be higher in rural areas.\n",
    "- Although the percent of total fares is highest in urban areas, the average fare is lowest. The quantity of rides and drivers make up for the low average fare in contributing to total fare amount."
   ]
  },
  {
   "cell_type": "code",
   "execution_count": 27,
   "metadata": {},
   "outputs": [],
   "source": [
    "# import dependencies\n",
    "from matplotlib import pyplot as plt\n",
    "from scipy import stats\n",
    "import numpy as np\n",
    "import pandas as pd\n",
    "import seaborn as sns\n",
    "\n",
    "# Format floats\n",
    "pd.options.display.float_format = '${:,.2f}'.format"
   ]
  },
  {
   "cell_type": "code",
   "execution_count": 28,
   "metadata": {},
   "outputs": [],
   "source": [
    "# Load data\n",
    "\n",
    "city_data = pd.read_csv(\"Resources/city_data.csv\")\n",
    "ride_data = pd.read_csv(\"Resources/ride_data.csv\")"
   ]
  },
  {
   "cell_type": "code",
   "execution_count": 29,
   "metadata": {},
   "outputs": [
    {
     "data": {
      "text/html": [
       "<div>\n",
       "<style scoped>\n",
       "    .dataframe tbody tr th:only-of-type {\n",
       "        vertical-align: middle;\n",
       "    }\n",
       "\n",
       "    .dataframe tbody tr th {\n",
       "        vertical-align: top;\n",
       "    }\n",
       "\n",
       "    .dataframe thead th {\n",
       "        text-align: right;\n",
       "    }\n",
       "</style>\n",
       "<table border=\"1\" class=\"dataframe\">\n",
       "  <thead>\n",
       "    <tr style=\"text-align: right;\">\n",
       "      <th></th>\n",
       "      <th>city</th>\n",
       "      <th>driver_count</th>\n",
       "      <th>type</th>\n",
       "      <th>date</th>\n",
       "      <th>fare</th>\n",
       "      <th>ride_id</th>\n",
       "    </tr>\n",
       "  </thead>\n",
       "  <tbody>\n",
       "    <tr>\n",
       "      <th>0</th>\n",
       "      <td>Kelseyland</td>\n",
       "      <td>63</td>\n",
       "      <td>Urban</td>\n",
       "      <td>2016-08-19 04:27:52</td>\n",
       "      <td>$5.51</td>\n",
       "      <td>6246006544795</td>\n",
       "    </tr>\n",
       "    <tr>\n",
       "      <th>1</th>\n",
       "      <td>Kelseyland</td>\n",
       "      <td>63</td>\n",
       "      <td>Urban</td>\n",
       "      <td>2016-04-17 06:59:50</td>\n",
       "      <td>$5.54</td>\n",
       "      <td>7466473222333</td>\n",
       "    </tr>\n",
       "    <tr>\n",
       "      <th>2</th>\n",
       "      <td>Kelseyland</td>\n",
       "      <td>63</td>\n",
       "      <td>Urban</td>\n",
       "      <td>2016-05-04 15:06:07</td>\n",
       "      <td>$30.54</td>\n",
       "      <td>2140501382736</td>\n",
       "    </tr>\n",
       "    <tr>\n",
       "      <th>3</th>\n",
       "      <td>Kelseyland</td>\n",
       "      <td>63</td>\n",
       "      <td>Urban</td>\n",
       "      <td>2016-01-25 20:44:56</td>\n",
       "      <td>$12.08</td>\n",
       "      <td>1896987891309</td>\n",
       "    </tr>\n",
       "    <tr>\n",
       "      <th>4</th>\n",
       "      <td>Kelseyland</td>\n",
       "      <td>63</td>\n",
       "      <td>Urban</td>\n",
       "      <td>2016-08-09 18:19:47</td>\n",
       "      <td>$17.91</td>\n",
       "      <td>8784212854829</td>\n",
       "    </tr>\n",
       "    <tr>\n",
       "      <th>5</th>\n",
       "      <td>Kelseyland</td>\n",
       "      <td>63</td>\n",
       "      <td>Urban</td>\n",
       "      <td>2016-10-24 15:15:46</td>\n",
       "      <td>$33.56</td>\n",
       "      <td>4797969661996</td>\n",
       "    </tr>\n",
       "    <tr>\n",
       "      <th>6</th>\n",
       "      <td>Kelseyland</td>\n",
       "      <td>63</td>\n",
       "      <td>Urban</td>\n",
       "      <td>2016-06-06 13:54:23</td>\n",
       "      <td>$20.81</td>\n",
       "      <td>9811478565448</td>\n",
       "    </tr>\n",
       "    <tr>\n",
       "      <th>7</th>\n",
       "      <td>Kelseyland</td>\n",
       "      <td>63</td>\n",
       "      <td>Urban</td>\n",
       "      <td>2016-08-10 07:02:40</td>\n",
       "      <td>$44.53</td>\n",
       "      <td>1563171128434</td>\n",
       "    </tr>\n",
       "    <tr>\n",
       "      <th>8</th>\n",
       "      <td>Kelseyland</td>\n",
       "      <td>63</td>\n",
       "      <td>Urban</td>\n",
       "      <td>2016-07-05 17:37:13</td>\n",
       "      <td>$29.02</td>\n",
       "      <td>6897992353955</td>\n",
       "    </tr>\n",
       "    <tr>\n",
       "      <th>9</th>\n",
       "      <td>Kelseyland</td>\n",
       "      <td>63</td>\n",
       "      <td>Urban</td>\n",
       "      <td>2016-04-25 02:18:31</td>\n",
       "      <td>$20.05</td>\n",
       "      <td>1148374505062</td>\n",
       "    </tr>\n",
       "  </tbody>\n",
       "</table>\n",
       "</div>"
      ],
      "text/plain": [
       "         city  driver_count   type                 date   fare        ride_id\n",
       "0  Kelseyland            63  Urban  2016-08-19 04:27:52  $5.51  6246006544795\n",
       "1  Kelseyland            63  Urban  2016-04-17 06:59:50  $5.54  7466473222333\n",
       "2  Kelseyland            63  Urban  2016-05-04 15:06:07 $30.54  2140501382736\n",
       "3  Kelseyland            63  Urban  2016-01-25 20:44:56 $12.08  1896987891309\n",
       "4  Kelseyland            63  Urban  2016-08-09 18:19:47 $17.91  8784212854829\n",
       "5  Kelseyland            63  Urban  2016-10-24 15:15:46 $33.56  4797969661996\n",
       "6  Kelseyland            63  Urban  2016-06-06 13:54:23 $20.81  9811478565448\n",
       "7  Kelseyland            63  Urban  2016-08-10 07:02:40 $44.53  1563171128434\n",
       "8  Kelseyland            63  Urban  2016-07-05 17:37:13 $29.02  6897992353955\n",
       "9  Kelseyland            63  Urban  2016-04-25 02:18:31 $20.05  1148374505062"
      ]
     },
     "execution_count": 29,
     "metadata": {},
     "output_type": "execute_result"
    }
   ],
   "source": [
    "# merge two datasets\n",
    "city_ride_data = pd.merge(city_data, ride_data, on=\"city\", how=\"outer\")\n",
    "city_ride_data.head(10)"
   ]
  },
  {
   "cell_type": "code",
   "execution_count": 30,
   "metadata": {},
   "outputs": [],
   "source": [
    "# groupby city\n",
    "groupByCity_df = city_ride_data.groupby(['city'])"
   ]
  },
  {
   "cell_type": "code",
   "execution_count": 31,
   "metadata": {},
   "outputs": [],
   "source": [
    "# Combine dataset\n",
    "\n",
    "ride_sharing = pd.DataFrame({\"Average Fare ($)\": groupByCity_df[\"fare\"].mean(),\n",
    "                            \"Total Number of Rides (Per City)\": groupByCity_df[\"ride_id\"].count(),\n",
    "                            \"Total Number of Drivers\": groupByCity_df[\"driver_count\"].max(),\n",
    "                            \"City Type\": groupByCity_df[\"type\"].max()})"
   ]
  },
  {
   "cell_type": "code",
   "execution_count": 32,
   "metadata": {},
   "outputs": [],
   "source": [
    "# Dropping Port James data point because it creates an outlier in the bubble chart. Removing outlier doesn't change \n",
    "# remaining results. \n",
    "rev_ride_sharing = ride_sharing.drop(['Port James'])"
   ]
  },
  {
   "cell_type": "markdown",
   "metadata": {},
   "source": [
    "## Bubble Plot of Ride Sharing Data"
   ]
  },
  {
   "cell_type": "code",
   "execution_count": 33,
   "metadata": {},
   "outputs": [
    {
     "data": {
      "text/plain": [
       "<matplotlib.legend.Legend at 0x1a174262b0>"
      ]
     },
     "execution_count": 33,
     "metadata": {},
     "output_type": "execute_result"
    },
    {
     "data": {
      "image/png": "[encoded data removed]",
      "text/plain": [
       "<matplotlib.figure.Figure at 0x107777080>"
      ]
     },
     "metadata": {},
     "output_type": "display_data"
    }
   ],
   "source": [
    "# Create bubble chart using Seaborn\n",
    "\n",
    "marker_size = (rev_ride_sharing['Total Number of Drivers']*10)\n",
    "sns.set(style=\"darkgrid\")\n",
    "bubble_plot = sns.lmplot(x = \"Total Number of Rides (Per City)\", y = \"Average Fare ($)\", data = rev_ride_sharing,\n",
    "                         hue= \"City Type\", palette=dict(Urban=\"lightcoral\", Suburban=\"lightskyblue\", Rural=\"gold\"), \n",
    "                         fit_reg=False, scatter_kws={'s': marker_size}, legend=False)\n",
    "bubble_plot = (bubble_plot.set(xlim=(0, 40), ylim=(15, 45)))\n",
    "\n",
    "# Format with matplotlib\n",
    "plt.title('Pyber Ride Sharing Data (2016)')\n",
    "plt.text(30, 37, s=\"Note: Circle size correlates with driver count per city.\", horizontalalignment=\"left\")\n",
    "plt.text(22, 42, s=\"City Types\")\n",
    "plt.legend(loc='upper right', markerscale = 0.5)"
   ]
  },
  {
   "cell_type": "code",
   "execution_count": 34,
   "metadata": {},
   "outputs": [
    {
     "data": {
      "text/plain": [
       "'$64,669.12'"
      ]
     },
     "execution_count": 34,
     "metadata": {},
     "output_type": "execute_result"
    }
   ],
   "source": [
    "# Determine % of total fares by city type\n",
    "# Determine total fare amount\n",
    "total_fare = city_ride_data[\"fare\"].sum()\n",
    "\"${:,.2f}\".format(total_fare)"
   ]
  },
  {
   "cell_type": "code",
   "execution_count": 35,
   "metadata": {},
   "outputs": [],
   "source": [
    "# Groupby city type\n",
    "groupByCityType_df = city_ride_data.groupby(['type'])"
   ]
  },
  {
   "cell_type": "code",
   "execution_count": 36,
   "metadata": {},
   "outputs": [
    {
     "data": {
      "text/html": [
       "<div>\n",
       "<style scoped>\n",
       "    .dataframe tbody tr th:only-of-type {\n",
       "        vertical-align: middle;\n",
       "    }\n",
       "\n",
       "    .dataframe tbody tr th {\n",
       "        vertical-align: top;\n",
       "    }\n",
       "\n",
       "    .dataframe thead th {\n",
       "        text-align: right;\n",
       "    }\n",
       "</style>\n",
       "<table border=\"1\" class=\"dataframe\">\n",
       "  <thead>\n",
       "    <tr style=\"text-align: right;\">\n",
       "      <th></th>\n",
       "      <th>Total Fares by City Type</th>\n",
       "    </tr>\n",
       "    <tr>\n",
       "      <th>type</th>\n",
       "      <th></th>\n",
       "    </tr>\n",
       "  </thead>\n",
       "  <tbody>\n",
       "    <tr>\n",
       "      <th>Rural</th>\n",
       "      <td>$4,255.09</td>\n",
       "    </tr>\n",
       "    <tr>\n",
       "      <th>Suburban</th>\n",
       "      <td>$20,335.69</td>\n",
       "    </tr>\n",
       "    <tr>\n",
       "      <th>Urban</th>\n",
       "      <td>$40,078.34</td>\n",
       "    </tr>\n",
       "  </tbody>\n",
       "</table>\n",
       "</div>"
      ],
      "text/plain": [
       "          Total Fares by City Type\n",
       "type                              \n",
       "Rural                    $4,255.09\n",
       "Suburban                $20,335.69\n",
       "Urban                   $40,078.34"
      ]
     },
     "execution_count": 36,
     "metadata": {},
     "output_type": "execute_result"
    }
   ],
   "source": [
    "fares_type = pd.DataFrame({\"Total Fares by City Type\": groupByCityType_df[\"fare\"].sum()})\n",
    "fares_type"
   ]
  },
  {
   "cell_type": "markdown",
   "metadata": {},
   "source": [
    "## Total Fares by City Type"
   ]
  },
  {
   "cell_type": "code",
   "execution_count": 37,
   "metadata": {},
   "outputs": [
    {
     "data": {
      "image/png": "[encoded data removed]",
      "text/plain": [
       "<matplotlib.figure.Figure at 0x1a1760d438>"
      ]
     },
     "metadata": {},
     "output_type": "display_data"
    }
   ],
   "source": [
    "city_types = [\"Rural\", \"Suburban\", \"Urban\"]\n",
    "total_fares = [4255.09, 20335.69, 40078.34]\n",
    "colors = [\"gold\", \"lightskyblue\", \"lightcoral\"]\n",
    "explode = (0,0,0.1)\n",
    "\n",
    "# Tell matplotlib to create a pie chart based upon the above data\n",
    "plt.pie(total_fares, explode=explode, labels=city_types, colors=colors, \n",
    "        autopct=\"%1.1f%%\", shadow=True, startangle=100)\n",
    "\n",
    "# Create axes which are equal so we have a perfect circle\n",
    "plt.axis(\"equal\")\n",
    "\n",
    "plt.title('% of Total Fares by City Type')\n",
    "\n",
    "plt.show()"
   ]
  },
  {
   "cell_type": "code",
   "execution_count": 38,
   "metadata": {},
   "outputs": [
    {
     "data": {
      "text/plain": [
       "2407"
      ]
     },
     "execution_count": 38,
     "metadata": {},
     "output_type": "execute_result"
    }
   ],
   "source": [
    "# total rides by city type\n",
    "total_rides = city_ride_data[\"ride_id\"].count()\n",
    "total_rides"
   ]
  },
  {
   "cell_type": "code",
   "execution_count": 39,
   "metadata": {},
   "outputs": [
    {
     "data": {
      "text/html": [
       "<div>\n",
       "<style scoped>\n",
       "    .dataframe tbody tr th:only-of-type {\n",
       "        vertical-align: middle;\n",
       "    }\n",
       "\n",
       "    .dataframe tbody tr th {\n",
       "        vertical-align: top;\n",
       "    }\n",
       "\n",
       "    .dataframe thead th {\n",
       "        text-align: right;\n",
       "    }\n",
       "</style>\n",
       "<table border=\"1\" class=\"dataframe\">\n",
       "  <thead>\n",
       "    <tr style=\"text-align: right;\">\n",
       "      <th></th>\n",
       "      <th>Total Rides by City Type</th>\n",
       "    </tr>\n",
       "    <tr>\n",
       "      <th>type</th>\n",
       "      <th></th>\n",
       "    </tr>\n",
       "  </thead>\n",
       "  <tbody>\n",
       "    <tr>\n",
       "      <th>Rural</th>\n",
       "      <td>125</td>\n",
       "    </tr>\n",
       "    <tr>\n",
       "      <th>Suburban</th>\n",
       "      <td>657</td>\n",
       "    </tr>\n",
       "    <tr>\n",
       "      <th>Urban</th>\n",
       "      <td>1625</td>\n",
       "    </tr>\n",
       "  </tbody>\n",
       "</table>\n",
       "</div>"
      ],
      "text/plain": [
       "          Total Rides by City Type\n",
       "type                              \n",
       "Rural                          125\n",
       "Suburban                       657\n",
       "Urban                         1625"
      ]
     },
     "execution_count": 39,
     "metadata": {},
     "output_type": "execute_result"
    }
   ],
   "source": [
    "rides_type = pd.DataFrame({\"Total Rides by City Type\": groupByCityType_df[\"ride_id\"].count()})\n",
    "rides_type"
   ]
  },
  {
   "cell_type": "markdown",
   "metadata": {},
   "source": [
    "## Total Rides by City Type"
   ]
  },
  {
   "cell_type": "code",
   "execution_count": 40,
   "metadata": {},
   "outputs": [
    {
     "data": {
      "image/png": "[encoded data removed]",
      "text/plain": [
       "<matplotlib.figure.Figure at 0x1a17895470>"
      ]
     },
     "metadata": {},
     "output_type": "display_data"
    }
   ],
   "source": [
    "city_types = [\"Rural\", \"Suburban\", \"Urban\"]\n",
    "rides = [125, 657, 1625]\n",
    "colors = [\"gold\", \"lightskyblue\", \"lightcoral\"]\n",
    "explode = (0,0,0.1)\n",
    "\n",
    "# Tell matplotlib to create a pie chart based upon the above data\n",
    "plt.pie(rides, explode=explode, labels=city_types, colors=colors, \n",
    "        autopct=\"%1.1f%%\", shadow=True, startangle=125)\n",
    "\n",
    "# Create axes which are equal so we have a perfect circle\n",
    "plt.axis(\"equal\")\n",
    "\n",
    "plt.title('% of Total Rides by City Type')\n",
    "\n",
    "plt.show()"
   ]
  },
  {
   "cell_type": "code",
   "execution_count": 41,
   "metadata": {},
   "outputs": [
    {
     "data": {
      "text/plain": [
       "3346"
      ]
     },
     "execution_count": 41,
     "metadata": {},
     "output_type": "execute_result"
    }
   ],
   "source": [
    "# Total drivers\n",
    "total_drivers = ride_sharing.sum()['Total Number of Drivers']\n",
    "total_drivers"
   ]
  },
  {
   "cell_type": "code",
   "execution_count": 42,
   "metadata": {},
   "outputs": [
    {
     "data": {
      "text/html": [
       "<div>\n",
       "<style scoped>\n",
       "    .dataframe tbody tr th:only-of-type {\n",
       "        vertical-align: middle;\n",
       "    }\n",
       "\n",
       "    .dataframe tbody tr th {\n",
       "        vertical-align: top;\n",
       "    }\n",
       "\n",
       "    .dataframe thead th {\n",
       "        text-align: right;\n",
       "    }\n",
       "</style>\n",
       "<table border=\"1\" class=\"dataframe\">\n",
       "  <thead>\n",
       "    <tr style=\"text-align: right;\">\n",
       "      <th></th>\n",
       "      <th>Total Drivers</th>\n",
       "    </tr>\n",
       "    <tr>\n",
       "      <th>City Type</th>\n",
       "      <th></th>\n",
       "    </tr>\n",
       "  </thead>\n",
       "  <tbody>\n",
       "    <tr>\n",
       "      <th>Rural</th>\n",
       "      <td>104</td>\n",
       "    </tr>\n",
       "    <tr>\n",
       "      <th>Suburban</th>\n",
       "      <td>635</td>\n",
       "    </tr>\n",
       "    <tr>\n",
       "      <th>Urban</th>\n",
       "      <td>2607</td>\n",
       "    </tr>\n",
       "  </tbody>\n",
       "</table>\n",
       "</div>"
      ],
      "text/plain": [
       "           Total Drivers\n",
       "City Type               \n",
       "Rural                104\n",
       "Suburban             635\n",
       "Urban               2607"
      ]
     },
     "execution_count": 42,
     "metadata": {},
     "output_type": "execute_result"
    }
   ],
   "source": [
    "# groupby city type\n",
    "groupByCityType_df = ride_sharing.groupby(['City Type'])\n",
    "\n",
    "# determine total drivers by city type\n",
    "total_drivers_city_type = pd.DataFrame({\"Total Drivers\": groupByCityType_df[\"Total Number of Drivers\"].sum()})\n",
    "total_drivers_city_type"
   ]
  },
  {
   "cell_type": "markdown",
   "metadata": {},
   "source": [
    "## Total Drivers by City Type"
   ]
  },
  {
   "cell_type": "code",
   "execution_count": 43,
   "metadata": {},
   "outputs": [
    {
     "data": {
      "image/png": "[encoded data removed]",
      "text/plain": [
       "<matplotlib.figure.Figure at 0x1a178cf1d0>"
      ]
     },
     "metadata": {},
     "output_type": "display_data"
    }
   ],
   "source": [
    "city_types = [\"Rural\", \"Suburban\", \"Urban\"]\n",
    "drivers = [104, 635, 2607]\n",
    "colors = [\"gold\", \"lightskyblue\", \"lightcoral\"]\n",
    "explode = (0,0,0.1)\n",
    "\n",
    "# Tell matplotlib to create a pie chart based upon the above data\n",
    "plt.pie(drivers, explode=explode, labels=city_types, colors=colors, \n",
    "        autopct=\"%1.1f%%\", shadow=True, startangle=135)\n",
    "\n",
    "# Create axes which are equal so we have a perfect circle\n",
    "plt.axis(\"equal\")\n",
    "\n",
    "plt.title('% of Total Drivers by City Type')\n",
    "\n",
    "plt.show()"
   ]
  }
 ],
 "metadata": {
  "kernelspec": {
   "display_name": "Python [conda env:PythonData]",
   "language": "python",
   "name": "conda-env-PythonData-py"
  },
  "language_info": {
   "codemirror_mode": {
    "name": "ipython",
    "version": 3
   },
   "file_extension": ".py",
   "mimetype": "text/x-python",
   "name": "python",
   "nbconvert_exporter": "python",
   "pygments_lexer": "ipython3",
   "version": "3.6.4"
  }
 },
 "nbformat": 4,
 "nbformat_minor": 2
}
